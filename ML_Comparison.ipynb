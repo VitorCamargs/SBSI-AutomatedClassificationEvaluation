{
 "cells": [
  {
   "cell_type": "markdown",
   "source": [
    "## Instalaçao das bibliotecas a serem utilizadas"
   ],
   "metadata": {
    "collapsed": false,
    "pycharm": {
     "name": "#%% md\n"
    }
   }
  },
  {
   "cell_type": "code",
   "execution_count": null,
   "outputs": [],
   "source": [
    "import sys\n",
    "!{sys.executable} -m pip install pandas\n",
    "!{sys.executable} -m pip install spacy\n",
    "!python -m spacy download en_core_web_sm\n",
    "!{sys.executable} -m pip install -U scikit-learn\n",
    "!{sys.executable} -m pip install matplotlib\n"
   ],
   "metadata": {
    "collapsed": false,
    "pycharm": {
     "name": "#%%\n"
    }
   }
  },
  {
   "cell_type": "code",
   "execution_count": 28,
   "outputs": [],
   "source": [
    "import pandas as pd\n"
   ],
   "metadata": {
    "collapsed": false,
    "pycharm": {
     "name": "#%%\n"
    }
   }
  },
  {
   "cell_type": "markdown",
   "source": [
    "Carrega a base de dados"
   ],
   "metadata": {
    "collapsed": false,
    "pycharm": {
     "name": "#%% md\n"
    }
   }
  },
  {
   "cell_type": "code",
   "execution_count": 29,
   "outputs": [
    {
     "name": "stdout",
     "output_type": "stream",
     "text": [
      "(3807, 12)\n"
     ]
    },
    {
     "data": {
      "text/plain": "   Unnamed: 0                               Element_id  \\\n0           1  Id_ace65391-08a8-41d7-ac2c-4dbb714db3ff   \n1           2  Id_ace65391-08a8-41d7-ac2c-4dbb714db3ff   \n2           3  Id_ace65391-08a8-41d7-ac2c-4dbb714db3ff   \n3           4  Id_1522756e-bc2a-41f2-aca1-519d5bdc285e   \n4           5  Id_1522756e-bc2a-41f2-aca1-519d5bdc285e   \n5           6  Id_1522756e-bc2a-41f2-aca1-519d5bdc285e   \n6           7  Id_df1fdcb6-a5d9-4f7c-8f0e-645e8887f8a7   \n7           8  Id_df1fdcb6-a5d9-4f7c-8f0e-645e8887f8a7   \n8           9  Id_df1fdcb6-a5d9-4f7c-8f0e-645e8887f8a7   \n9          10  Id_dca9376d-6ca2-414a-9fe8-821c076c239b   \n\n                          Collaboration_id      Element_type  \\\n0  Id_a0e6717a-4e36-476c-a988-ed009c847883       serviceTask   \n1  Id_a0e6717a-4e36-476c-a988-ed009c847883       serviceTask   \n2  Id_a0e6717a-4e36-476c-a988-ed009c847883       serviceTask   \n3  Id_a605b7ad-e3c9-4bd6-960b-3e13e3130b03          endEvent   \n4  Id_a605b7ad-e3c9-4bd6-960b-3e13e3130b03          endEvent   \n5  Id_a605b7ad-e3c9-4bd6-960b-3e13e3130b03          endEvent   \n6  Id_b3f958bb-3a4c-4376-8e2b-9674d6a050d1  exclusiveGateway   \n7  Id_b3f958bb-3a4c-4376-8e2b-9674d6a050d1  exclusiveGateway   \n8  Id_b3f958bb-3a4c-4376-8e2b-9674d6a050d1  exclusiveGateway   \n9  Id_8370a4a2-361c-4103-9dd0-465bf6958936  exclusiveGateway   \n\n                        Name Category  Vitor  Diego  wasThereConsensus  \\\n0  Approve contract additive       PP      1      1               True   \n1  Approve contract additive      STT      5      5               True   \n2  Approve contract additive      PDI      5      5               True   \n3         Breach of contract       PP      1      4              False   \n4         Breach of contract      STT      1      1               True   \n5         Breach of contract      PDI      5      5               True   \n6               Content type       PP      1      1               True   \n7               Content type      STT      1      1               True   \n8               Content type      PDI      1      1               True   \n9           Type of material       PP      1      1               True   \n\n   HasOnePositiveClassification Element_supertype classificationLabel  \n0                         False             Tasks            Negative  \n1                          True             Tasks            Positive  \n2                          True             Tasks            Positive  \n3                          True            Events        Inconclusive  \n4                         False            Events            Negative  \n5                          True            Events            Positive  \n6                         False           Gateway            Negative  \n7                         False           Gateway            Negative  \n8                         False           Gateway            Negative  \n9                         False           Gateway            Negative  ",
      "text/html": "<div>\n<style scoped>\n    .dataframe tbody tr th:only-of-type {\n        vertical-align: middle;\n    }\n\n    .dataframe tbody tr th {\n        vertical-align: top;\n    }\n\n    .dataframe thead th {\n        text-align: right;\n    }\n</style>\n<table border=\"1\" class=\"dataframe\">\n  <thead>\n    <tr style=\"text-align: right;\">\n      <th></th>\n      <th>Unnamed: 0</th>\n      <th>Element_id</th>\n      <th>Collaboration_id</th>\n      <th>Element_type</th>\n      <th>Name</th>\n      <th>Category</th>\n      <th>Vitor</th>\n      <th>Diego</th>\n      <th>wasThereConsensus</th>\n      <th>HasOnePositiveClassification</th>\n      <th>Element_supertype</th>\n      <th>classificationLabel</th>\n    </tr>\n  </thead>\n  <tbody>\n    <tr>\n      <th>0</th>\n      <td>1</td>\n      <td>Id_ace65391-08a8-41d7-ac2c-4dbb714db3ff</td>\n      <td>Id_a0e6717a-4e36-476c-a988-ed009c847883</td>\n      <td>serviceTask</td>\n      <td>Approve contract additive</td>\n      <td>PP</td>\n      <td>1</td>\n      <td>1</td>\n      <td>True</td>\n      <td>False</td>\n      <td>Tasks</td>\n      <td>Negative</td>\n    </tr>\n    <tr>\n      <th>1</th>\n      <td>2</td>\n      <td>Id_ace65391-08a8-41d7-ac2c-4dbb714db3ff</td>\n      <td>Id_a0e6717a-4e36-476c-a988-ed009c847883</td>\n      <td>serviceTask</td>\n      <td>Approve contract additive</td>\n      <td>STT</td>\n      <td>5</td>\n      <td>5</td>\n      <td>True</td>\n      <td>True</td>\n      <td>Tasks</td>\n      <td>Positive</td>\n    </tr>\n    <tr>\n      <th>2</th>\n      <td>3</td>\n      <td>Id_ace65391-08a8-41d7-ac2c-4dbb714db3ff</td>\n      <td>Id_a0e6717a-4e36-476c-a988-ed009c847883</td>\n      <td>serviceTask</td>\n      <td>Approve contract additive</td>\n      <td>PDI</td>\n      <td>5</td>\n      <td>5</td>\n      <td>True</td>\n      <td>True</td>\n      <td>Tasks</td>\n      <td>Positive</td>\n    </tr>\n    <tr>\n      <th>3</th>\n      <td>4</td>\n      <td>Id_1522756e-bc2a-41f2-aca1-519d5bdc285e</td>\n      <td>Id_a605b7ad-e3c9-4bd6-960b-3e13e3130b03</td>\n      <td>endEvent</td>\n      <td>Breach of contract</td>\n      <td>PP</td>\n      <td>1</td>\n      <td>4</td>\n      <td>False</td>\n      <td>True</td>\n      <td>Events</td>\n      <td>Inconclusive</td>\n    </tr>\n    <tr>\n      <th>4</th>\n      <td>5</td>\n      <td>Id_1522756e-bc2a-41f2-aca1-519d5bdc285e</td>\n      <td>Id_a605b7ad-e3c9-4bd6-960b-3e13e3130b03</td>\n      <td>endEvent</td>\n      <td>Breach of contract</td>\n      <td>STT</td>\n      <td>1</td>\n      <td>1</td>\n      <td>True</td>\n      <td>False</td>\n      <td>Events</td>\n      <td>Negative</td>\n    </tr>\n    <tr>\n      <th>5</th>\n      <td>6</td>\n      <td>Id_1522756e-bc2a-41f2-aca1-519d5bdc285e</td>\n      <td>Id_a605b7ad-e3c9-4bd6-960b-3e13e3130b03</td>\n      <td>endEvent</td>\n      <td>Breach of contract</td>\n      <td>PDI</td>\n      <td>5</td>\n      <td>5</td>\n      <td>True</td>\n      <td>True</td>\n      <td>Events</td>\n      <td>Positive</td>\n    </tr>\n    <tr>\n      <th>6</th>\n      <td>7</td>\n      <td>Id_df1fdcb6-a5d9-4f7c-8f0e-645e8887f8a7</td>\n      <td>Id_b3f958bb-3a4c-4376-8e2b-9674d6a050d1</td>\n      <td>exclusiveGateway</td>\n      <td>Content type</td>\n      <td>PP</td>\n      <td>1</td>\n      <td>1</td>\n      <td>True</td>\n      <td>False</td>\n      <td>Gateway</td>\n      <td>Negative</td>\n    </tr>\n    <tr>\n      <th>7</th>\n      <td>8</td>\n      <td>Id_df1fdcb6-a5d9-4f7c-8f0e-645e8887f8a7</td>\n      <td>Id_b3f958bb-3a4c-4376-8e2b-9674d6a050d1</td>\n      <td>exclusiveGateway</td>\n      <td>Content type</td>\n      <td>STT</td>\n      <td>1</td>\n      <td>1</td>\n      <td>True</td>\n      <td>False</td>\n      <td>Gateway</td>\n      <td>Negative</td>\n    </tr>\n    <tr>\n      <th>8</th>\n      <td>9</td>\n      <td>Id_df1fdcb6-a5d9-4f7c-8f0e-645e8887f8a7</td>\n      <td>Id_b3f958bb-3a4c-4376-8e2b-9674d6a050d1</td>\n      <td>exclusiveGateway</td>\n      <td>Content type</td>\n      <td>PDI</td>\n      <td>1</td>\n      <td>1</td>\n      <td>True</td>\n      <td>False</td>\n      <td>Gateway</td>\n      <td>Negative</td>\n    </tr>\n    <tr>\n      <th>9</th>\n      <td>10</td>\n      <td>Id_dca9376d-6ca2-414a-9fe8-821c076c239b</td>\n      <td>Id_8370a4a2-361c-4103-9dd0-465bf6958936</td>\n      <td>exclusiveGateway</td>\n      <td>Type of material</td>\n      <td>PP</td>\n      <td>1</td>\n      <td>1</td>\n      <td>True</td>\n      <td>False</td>\n      <td>Gateway</td>\n      <td>Negative</td>\n    </tr>\n  </tbody>\n</table>\n</div>"
     },
     "execution_count": 29,
     "metadata": {},
     "output_type": "execute_result"
    }
   ],
   "source": [
    "df = pd.read_csv(\"classificacaoCOncluida.csv\")\n",
    "print(df.shape)\n",
    "df.head(10)\n"
   ],
   "metadata": {
    "collapsed": false,
    "pycharm": {
     "name": "#%%\n"
    }
   }
  },
  {
   "cell_type": "markdown",
   "source": [
    "# Separando os dados que vamos utilizar por enquanto\n",
    "\n",
    "Separando apenas as colunas que serao utilizadas pelo algoritimo"
   ],
   "metadata": {
    "collapsed": false,
    "pycharm": {
     "name": "#%% md\n"
    }
   }
  },
  {
   "cell_type": "code",
   "execution_count": 30,
   "outputs": [
    {
     "data": {
      "text/plain": "                        Name Element_supertype Category classificationLabel\n0  Approve contract additive             Tasks       PP            Negative\n1  Approve contract additive             Tasks      STT            Positive\n2  Approve contract additive             Tasks      PDI            Positive\n3         Breach of contract            Events       PP        Inconclusive\n4         Breach of contract            Events      STT            Negative",
      "text/html": "<div>\n<style scoped>\n    .dataframe tbody tr th:only-of-type {\n        vertical-align: middle;\n    }\n\n    .dataframe tbody tr th {\n        vertical-align: top;\n    }\n\n    .dataframe thead th {\n        text-align: right;\n    }\n</style>\n<table border=\"1\" class=\"dataframe\">\n  <thead>\n    <tr style=\"text-align: right;\">\n      <th></th>\n      <th>Name</th>\n      <th>Element_supertype</th>\n      <th>Category</th>\n      <th>classificationLabel</th>\n    </tr>\n  </thead>\n  <tbody>\n    <tr>\n      <th>0</th>\n      <td>Approve contract additive</td>\n      <td>Tasks</td>\n      <td>PP</td>\n      <td>Negative</td>\n    </tr>\n    <tr>\n      <th>1</th>\n      <td>Approve contract additive</td>\n      <td>Tasks</td>\n      <td>STT</td>\n      <td>Positive</td>\n    </tr>\n    <tr>\n      <th>2</th>\n      <td>Approve contract additive</td>\n      <td>Tasks</td>\n      <td>PDI</td>\n      <td>Positive</td>\n    </tr>\n    <tr>\n      <th>3</th>\n      <td>Breach of contract</td>\n      <td>Events</td>\n      <td>PP</td>\n      <td>Inconclusive</td>\n    </tr>\n    <tr>\n      <th>4</th>\n      <td>Breach of contract</td>\n      <td>Events</td>\n      <td>STT</td>\n      <td>Negative</td>\n    </tr>\n  </tbody>\n</table>\n</div>"
     },
     "execution_count": 30,
     "metadata": {},
     "output_type": "execute_result"
    }
   ],
   "source": [
    "df= df[['Name','Element_supertype','Category','classificationLabel']]\n",
    "df.head(5)"
   ],
   "metadata": {
    "collapsed": false,
    "pycharm": {
     "name": "#%%\n"
    }
   }
  },
  {
   "cell_type": "code",
   "execution_count": 31,
   "outputs": [
    {
     "data": {
      "text/plain": "Negative        1571\nInconclusive    1278\nPositive         958\nName: classificationLabel, dtype: int64"
     },
     "execution_count": 31,
     "metadata": {},
     "output_type": "execute_result"
    }
   ],
   "source": [
    "df['classificationLabel'].value_counts()"
   ],
   "metadata": {
    "collapsed": false,
    "pycharm": {
     "name": "#%%\n"
    }
   }
  },
  {
   "cell_type": "markdown",
   "source": [
    "Filtrando apenas pelo supertipo 'Task'"
   ],
   "metadata": {
    "collapsed": false,
    "pycharm": {
     "name": "#%% md\n"
    }
   }
  },
  {
   "cell_type": "code",
   "execution_count": 32,
   "outputs": [
    {
     "name": "stdout",
     "output_type": "stream",
     "text": [
      "Tasks    2523\n",
      "Name: Element_supertype, dtype: int64\n"
     ]
    },
    {
     "data": {
      "text/plain": "                              Name Element_supertype Category  \\\n0        Approve contract additive             Tasks       PP   \n1        Approve contract additive             Tasks      STT   \n2        Approve contract additive             Tasks      PDI   \n12  Prepare communication briefing             Tasks       PP   \n13  Prepare communication briefing             Tasks      STT   \n\n   classificationLabel  \n0             Negative  \n1             Positive  \n2             Positive  \n12            Positive  \n13            Negative  ",
      "text/html": "<div>\n<style scoped>\n    .dataframe tbody tr th:only-of-type {\n        vertical-align: middle;\n    }\n\n    .dataframe tbody tr th {\n        vertical-align: top;\n    }\n\n    .dataframe thead th {\n        text-align: right;\n    }\n</style>\n<table border=\"1\" class=\"dataframe\">\n  <thead>\n    <tr style=\"text-align: right;\">\n      <th></th>\n      <th>Name</th>\n      <th>Element_supertype</th>\n      <th>Category</th>\n      <th>classificationLabel</th>\n    </tr>\n  </thead>\n  <tbody>\n    <tr>\n      <th>0</th>\n      <td>Approve contract additive</td>\n      <td>Tasks</td>\n      <td>PP</td>\n      <td>Negative</td>\n    </tr>\n    <tr>\n      <th>1</th>\n      <td>Approve contract additive</td>\n      <td>Tasks</td>\n      <td>STT</td>\n      <td>Positive</td>\n    </tr>\n    <tr>\n      <th>2</th>\n      <td>Approve contract additive</td>\n      <td>Tasks</td>\n      <td>PDI</td>\n      <td>Positive</td>\n    </tr>\n    <tr>\n      <th>12</th>\n      <td>Prepare communication briefing</td>\n      <td>Tasks</td>\n      <td>PP</td>\n      <td>Positive</td>\n    </tr>\n    <tr>\n      <th>13</th>\n      <td>Prepare communication briefing</td>\n      <td>Tasks</td>\n      <td>STT</td>\n      <td>Negative</td>\n    </tr>\n  </tbody>\n</table>\n</div>"
     },
     "execution_count": 32,
     "metadata": {},
     "output_type": "execute_result"
    }
   ],
   "source": [
    "df_filtred = df[df['Element_supertype'] == 'Tasks'].copy()\n",
    "print(df_filtred.Element_supertype.value_counts())\n",
    "df_filtred.head()"
   ],
   "metadata": {
    "collapsed": false,
    "pycharm": {
     "name": "#%%\n"
    }
   }
  },
  {
   "cell_type": "markdown",
   "source": [
    "Retirando as inconclusivas e convertendo Postivas para 1 e negativas para 0"
   ],
   "metadata": {
    "collapsed": false,
    "pycharm": {
     "name": "#%% md\n"
    }
   }
  },
  {
   "cell_type": "code",
   "execution_count": 33,
   "outputs": [],
   "source": [
    "df_filtred.drop(df_filtred[(df_filtred['classificationLabel'] == 'Inconclusive')].index, inplace=True)\n",
    "df_filtred['Category'].value_counts()\n",
    "df_filtred['bclassification'] = df_filtred['classificationLabel'].apply(lambda x: 1 if x=='Positive' else 0) \n",
    "df = df_filtred"
   ],
   "metadata": {
    "collapsed": false,
    "pycharm": {
     "name": "#%%\n"
    }
   }
  },
  {
   "cell_type": "markdown",
   "source": [
    "Lower all text"
   ],
   "metadata": {
    "collapsed": false,
    "pycharm": {
     "name": "#%% md\n"
    }
   }
  },
  {
   "cell_type": "code",
   "execution_count": 34,
   "outputs": [
    {
     "data": {
      "text/plain": "                              Name Element_supertype Category  \\\n0        approve contract additive             Tasks       PP   \n1        approve contract additive             Tasks      STT   \n2        approve contract additive             Tasks      PDI   \n12  prepare communication briefing             Tasks       PP   \n13  prepare communication briefing             Tasks      STT   \n\n   classificationLabel  bclassification  \n0             Negative                0  \n1             Positive                1  \n2             Positive                1  \n12            Positive                1  \n13            Negative                0  ",
      "text/html": "<div>\n<style scoped>\n    .dataframe tbody tr th:only-of-type {\n        vertical-align: middle;\n    }\n\n    .dataframe tbody tr th {\n        vertical-align: top;\n    }\n\n    .dataframe thead th {\n        text-align: right;\n    }\n</style>\n<table border=\"1\" class=\"dataframe\">\n  <thead>\n    <tr style=\"text-align: right;\">\n      <th></th>\n      <th>Name</th>\n      <th>Element_supertype</th>\n      <th>Category</th>\n      <th>classificationLabel</th>\n      <th>bclassification</th>\n    </tr>\n  </thead>\n  <tbody>\n    <tr>\n      <th>0</th>\n      <td>approve contract additive</td>\n      <td>Tasks</td>\n      <td>PP</td>\n      <td>Negative</td>\n      <td>0</td>\n    </tr>\n    <tr>\n      <th>1</th>\n      <td>approve contract additive</td>\n      <td>Tasks</td>\n      <td>STT</td>\n      <td>Positive</td>\n      <td>1</td>\n    </tr>\n    <tr>\n      <th>2</th>\n      <td>approve contract additive</td>\n      <td>Tasks</td>\n      <td>PDI</td>\n      <td>Positive</td>\n      <td>1</td>\n    </tr>\n    <tr>\n      <th>12</th>\n      <td>prepare communication briefing</td>\n      <td>Tasks</td>\n      <td>PP</td>\n      <td>Positive</td>\n      <td>1</td>\n    </tr>\n    <tr>\n      <th>13</th>\n      <td>prepare communication briefing</td>\n      <td>Tasks</td>\n      <td>STT</td>\n      <td>Negative</td>\n      <td>0</td>\n    </tr>\n  </tbody>\n</table>\n</div>"
     },
     "execution_count": 34,
     "metadata": {},
     "output_type": "execute_result"
    }
   ],
   "source": [
    "df['Name'] = df['Name'].str.lower()\n",
    "df.head()"
   ],
   "metadata": {
    "collapsed": false,
    "pycharm": {
     "name": "#%%\n"
    }
   }
  },
  {
   "cell_type": "markdown",
   "source": [
    "# Pre Process\n",
    "    Declaraçao das funcoes de retirada de stop words e lematizacao"
   ],
   "metadata": {
    "collapsed": false,
    "pycharm": {
     "name": "#%% md\n"
    }
   }
  },
  {
   "cell_type": "code",
   "execution_count": 35,
   "outputs": [],
   "source": [
    "import spacy\n",
    "\n",
    "# load english language model and create nlp object from it\n",
    "nlp = spacy.load(\"en_core_web_sm\")\n",
    "\n",
    "\n",
    "\n",
    "def preprocess_stop_lemma(text):\n",
    "    # remove stop words and lemmatize the text\n",
    "    doc = nlp(text)\n",
    "    filtered_tokens = []\n",
    "    for token in doc:\n",
    "        if token.is_stop or token.is_punct:\n",
    "            continue\n",
    "        filtered_tokens.append(token.lemma_)\n",
    "\n",
    "    return \" \".join(filtered_tokens)\n",
    "\n",
    "def preprocess_stop(text):\n",
    "    # remove stop words\n",
    "\n",
    "    doc = nlp(text)\n",
    "    filtered_tokens = []\n",
    "    global totaltokens\n",
    "    global stopCount\n",
    "\n",
    "    for token in doc:\n",
    "        if token.is_stop:\n",
    "            stopCount+=1\n",
    "            continue\n",
    "        if token.is_punct:\n",
    "            continue\n",
    "        totaltokens+=1\n",
    "        filtered_tokens.append(token.text)\n",
    "    return \" \".join(filtered_tokens)\n",
    "def preprocess_lemma(text):\n",
    "    # lemmatize the text\n",
    "    doc = nlp(text)\n",
    "    filtered_tokens = []\n",
    "    global totalWords\n",
    "    global noChangesCount\n",
    "    for token in doc:\n",
    "        if token.is_punct:\n",
    "            continue\n",
    "        filtered_tokens.append(token.lemma_)\n",
    "        totalWords+=1\n",
    "        if (str(token.lemma_)==str(token)):\n",
    "            noChangesCount+=1\n",
    "    return \" \".join(filtered_tokens)"
   ],
   "metadata": {
    "collapsed": false,
    "pycharm": {
     "name": "#%%\n"
    }
   }
  },
  {
   "cell_type": "markdown",
   "source": [
    "## Cria dataframes para cada uma das classes\n",
    "As funcos de pre processamento sao chamadas, sendo adicionandas colunas com os textos pre processados\n",
    "Tambem é feita uma contagem de quantas palavras foram retiradas como stop words e quantas foram editadas pela lematizacao"
   ],
   "metadata": {
    "collapsed": false,
    "pycharm": {
     "name": "#%% md\n"
    }
   }
  },
  {
   "cell_type": "markdown",
   "source": [
    "## STT"
   ],
   "metadata": {
    "collapsed": false,
    "pycharm": {
     "name": "#%% md\n"
    }
   }
  },
  {
   "cell_type": "code",
   "execution_count": 36,
   "outputs": [
    {
     "name": "stdout",
     "output_type": "stream",
     "text": [
      "stopCount = 239 total tokens =  1527\n",
      "NoChange =  1556 total words = 1766\n",
      "Negative    398\n",
      "Positive    124\n",
      "Name: classificationLabel, dtype: int64\n"
     ]
    },
    {
     "data": {
      "text/plain": "                              Name Element_supertype Category  \\\n1        approve contract additive             Tasks      STT   \n13  prepare communication briefing             Tasks      STT   \n22                notify rejection             Tasks      STT   \n25                     check costs             Tasks      STT   \n31                      use credit             Tasks      STT   \n\n   classificationLabel  bclassification                  Names_clean_sl  \\\n1             Positive                1       approve contract additive   \n13            Negative                0  prepare communication briefing   \n22            Positive                1                notify rejection   \n25            Negative                0                      check cost   \n31            Negative                0                      use credit   \n\n                     Names_clean_s                   Names_clean_l  \n1        approve contract additive       approve contract additive  \n13  prepare communication briefing  prepare communication briefing  \n22                notify rejection                notify rejection  \n25                     check costs                      check cost  \n31                      use credit                      use credit  ",
      "text/html": "<div>\n<style scoped>\n    .dataframe tbody tr th:only-of-type {\n        vertical-align: middle;\n    }\n\n    .dataframe tbody tr th {\n        vertical-align: top;\n    }\n\n    .dataframe thead th {\n        text-align: right;\n    }\n</style>\n<table border=\"1\" class=\"dataframe\">\n  <thead>\n    <tr style=\"text-align: right;\">\n      <th></th>\n      <th>Name</th>\n      <th>Element_supertype</th>\n      <th>Category</th>\n      <th>classificationLabel</th>\n      <th>bclassification</th>\n      <th>Names_clean_sl</th>\n      <th>Names_clean_s</th>\n      <th>Names_clean_l</th>\n    </tr>\n  </thead>\n  <tbody>\n    <tr>\n      <th>1</th>\n      <td>approve contract additive</td>\n      <td>Tasks</td>\n      <td>STT</td>\n      <td>Positive</td>\n      <td>1</td>\n      <td>approve contract additive</td>\n      <td>approve contract additive</td>\n      <td>approve contract additive</td>\n    </tr>\n    <tr>\n      <th>13</th>\n      <td>prepare communication briefing</td>\n      <td>Tasks</td>\n      <td>STT</td>\n      <td>Negative</td>\n      <td>0</td>\n      <td>prepare communication briefing</td>\n      <td>prepare communication briefing</td>\n      <td>prepare communication briefing</td>\n    </tr>\n    <tr>\n      <th>22</th>\n      <td>notify rejection</td>\n      <td>Tasks</td>\n      <td>STT</td>\n      <td>Positive</td>\n      <td>1</td>\n      <td>notify rejection</td>\n      <td>notify rejection</td>\n      <td>notify rejection</td>\n    </tr>\n    <tr>\n      <th>25</th>\n      <td>check costs</td>\n      <td>Tasks</td>\n      <td>STT</td>\n      <td>Negative</td>\n      <td>0</td>\n      <td>check cost</td>\n      <td>check costs</td>\n      <td>check cost</td>\n    </tr>\n    <tr>\n      <th>31</th>\n      <td>use credit</td>\n      <td>Tasks</td>\n      <td>STT</td>\n      <td>Negative</td>\n      <td>0</td>\n      <td>use credit</td>\n      <td>use credit</td>\n      <td>use credit</td>\n    </tr>\n  </tbody>\n</table>\n</div>"
     },
     "execution_count": 36,
     "metadata": {},
     "output_type": "execute_result"
    }
   ],
   "source": [
    "totalWords=0\n",
    "noChangesCount=0\n",
    "totaltokens=0\n",
    "stopCount=0\n",
    "df_stt = df[df['Category'].str.endswith('STT')].copy()\n",
    "df_stt['Names_clean_sl'] = df_stt['Name'].apply(preprocess_stop_lemma)\n",
    "df_stt['Names_clean_s'] = df_stt['Name'].apply(preprocess_stop)\n",
    "print('stopCount =',stopCount,'total tokens = ',totaltokens)\n",
    "df_stt['Names_clean_l'] = df_stt['Name'].apply(preprocess_lemma)\n",
    "print('NoChange = ',noChangesCount,'total words =',totalWords)\n",
    "print(df_stt['classificationLabel'].value_counts())\n",
    "df_stt.head()"
   ],
   "metadata": {
    "collapsed": false,
    "pycharm": {
     "name": "#%%\n"
    }
   }
  },
  {
   "cell_type": "markdown",
   "source": [
    "## PP"
   ],
   "metadata": {
    "collapsed": false,
    "pycharm": {
     "name": "#%% md\n"
    }
   }
  },
  {
   "cell_type": "code",
   "execution_count": 37,
   "outputs": [
    {
     "name": "stdout",
     "output_type": "stream",
     "text": [
      "stopCount = 200 total tokens =  1153\n",
      "NoChange =  1209 total words = 1353\n",
      "Negative    196\n",
      "Positive    190\n",
      "Name: classificationLabel, dtype: int64\n"
     ]
    },
    {
     "data": {
      "text/plain": "                              Name Element_supertype Category  \\\n0        approve contract additive             Tasks       PP   \n12  prepare communication briefing             Tasks       PP   \n18          negotiate debt payment             Tasks       PP   \n30                      use credit             Tasks       PP   \n39               reject enrollment             Tasks       PP   \n\n   classificationLabel  bclassification                  Names_clean_sl  \\\n0             Negative                0       approve contract additive   \n12            Positive                1  prepare communication briefing   \n18            Positive                1          negotiate debt payment   \n30            Negative                0                      use credit   \n39            Positive                1               reject enrollment   \n\n                     Names_clean_s                   Names_clean_l  \n0        approve contract additive       approve contract additive  \n12  prepare communication briefing  prepare communication briefing  \n18          negotiate debt payment          negotiate debt payment  \n30                      use credit                      use credit  \n39               reject enrollment               reject enrollment  ",
      "text/html": "<div>\n<style scoped>\n    .dataframe tbody tr th:only-of-type {\n        vertical-align: middle;\n    }\n\n    .dataframe tbody tr th {\n        vertical-align: top;\n    }\n\n    .dataframe thead th {\n        text-align: right;\n    }\n</style>\n<table border=\"1\" class=\"dataframe\">\n  <thead>\n    <tr style=\"text-align: right;\">\n      <th></th>\n      <th>Name</th>\n      <th>Element_supertype</th>\n      <th>Category</th>\n      <th>classificationLabel</th>\n      <th>bclassification</th>\n      <th>Names_clean_sl</th>\n      <th>Names_clean_s</th>\n      <th>Names_clean_l</th>\n    </tr>\n  </thead>\n  <tbody>\n    <tr>\n      <th>0</th>\n      <td>approve contract additive</td>\n      <td>Tasks</td>\n      <td>PP</td>\n      <td>Negative</td>\n      <td>0</td>\n      <td>approve contract additive</td>\n      <td>approve contract additive</td>\n      <td>approve contract additive</td>\n    </tr>\n    <tr>\n      <th>12</th>\n      <td>prepare communication briefing</td>\n      <td>Tasks</td>\n      <td>PP</td>\n      <td>Positive</td>\n      <td>1</td>\n      <td>prepare communication briefing</td>\n      <td>prepare communication briefing</td>\n      <td>prepare communication briefing</td>\n    </tr>\n    <tr>\n      <th>18</th>\n      <td>negotiate debt payment</td>\n      <td>Tasks</td>\n      <td>PP</td>\n      <td>Positive</td>\n      <td>1</td>\n      <td>negotiate debt payment</td>\n      <td>negotiate debt payment</td>\n      <td>negotiate debt payment</td>\n    </tr>\n    <tr>\n      <th>30</th>\n      <td>use credit</td>\n      <td>Tasks</td>\n      <td>PP</td>\n      <td>Negative</td>\n      <td>0</td>\n      <td>use credit</td>\n      <td>use credit</td>\n      <td>use credit</td>\n    </tr>\n    <tr>\n      <th>39</th>\n      <td>reject enrollment</td>\n      <td>Tasks</td>\n      <td>PP</td>\n      <td>Positive</td>\n      <td>1</td>\n      <td>reject enrollment</td>\n      <td>reject enrollment</td>\n      <td>reject enrollment</td>\n    </tr>\n  </tbody>\n</table>\n</div>"
     },
     "execution_count": 37,
     "metadata": {},
     "output_type": "execute_result"
    }
   ],
   "source": [
    "totalWords=0\n",
    "noChangesCount=0\n",
    "totaltokens=0\n",
    "stopCount=0\n",
    "df_pp = df[df['Category'].str.endswith('PP')].copy()\n",
    "df_pp['Names_clean_sl'] = df_pp['Name'].apply(preprocess_stop_lemma)\n",
    "df_pp['Names_clean_s'] = df_pp['Name'].apply(preprocess_stop)\n",
    "print('stopCount =',stopCount,'total tokens = ',totaltokens)\n",
    "df_pp['Names_clean_l'] = df_pp['Name'].apply(preprocess_lemma)\n",
    "print('NoChange = ',noChangesCount,'total words =',totalWords)\n",
    "print(df_pp['classificationLabel'].value_counts())\n",
    "df_pp.head()"
   ],
   "metadata": {
    "collapsed": false,
    "pycharm": {
     "name": "#%%\n"
    }
   }
  },
  {
   "cell_type": "markdown",
   "source": [
    "## PDI"
   ],
   "metadata": {
    "collapsed": false,
    "pycharm": {
     "name": "#%% md\n"
    }
   }
  },
  {
   "cell_type": "code",
   "execution_count": 38,
   "outputs": [
    {
     "name": "stdout",
     "output_type": "stream",
     "text": [
      "stopCount = 251 total tokens =  1727\n",
      "NoChange =  1751 total words = 1978\n",
      "Positive    408\n",
      "Negative    177\n",
      "Name: classificationLabel, dtype: int64\n"
     ]
    },
    {
     "data": {
      "text/plain": "                              Name Element_supertype Category  \\\n2        approve contract additive             Tasks      PDI   \n14  prepare communication briefing             Tasks      PDI   \n23                notify rejection             Tasks      PDI   \n35   approve purchase order change             Tasks      PDI   \n44                 adjust document             Tasks      PDI   \n\n   classificationLabel  bclassification                  Names_clean_sl  \\\n2             Positive                1       approve contract additive   \n14            Negative                0  prepare communication briefing   \n23            Positive                1                notify rejection   \n35            Positive                1   approve purchase order change   \n44            Positive                1                 adjust document   \n\n                     Names_clean_s                   Names_clean_l  \n2        approve contract additive       approve contract additive  \n14  prepare communication briefing  prepare communication briefing  \n23                notify rejection                notify rejection  \n35   approve purchase order change   approve purchase order change  \n44                 adjust document                 adjust document  ",
      "text/html": "<div>\n<style scoped>\n    .dataframe tbody tr th:only-of-type {\n        vertical-align: middle;\n    }\n\n    .dataframe tbody tr th {\n        vertical-align: top;\n    }\n\n    .dataframe thead th {\n        text-align: right;\n    }\n</style>\n<table border=\"1\" class=\"dataframe\">\n  <thead>\n    <tr style=\"text-align: right;\">\n      <th></th>\n      <th>Name</th>\n      <th>Element_supertype</th>\n      <th>Category</th>\n      <th>classificationLabel</th>\n      <th>bclassification</th>\n      <th>Names_clean_sl</th>\n      <th>Names_clean_s</th>\n      <th>Names_clean_l</th>\n    </tr>\n  </thead>\n  <tbody>\n    <tr>\n      <th>2</th>\n      <td>approve contract additive</td>\n      <td>Tasks</td>\n      <td>PDI</td>\n      <td>Positive</td>\n      <td>1</td>\n      <td>approve contract additive</td>\n      <td>approve contract additive</td>\n      <td>approve contract additive</td>\n    </tr>\n    <tr>\n      <th>14</th>\n      <td>prepare communication briefing</td>\n      <td>Tasks</td>\n      <td>PDI</td>\n      <td>Negative</td>\n      <td>0</td>\n      <td>prepare communication briefing</td>\n      <td>prepare communication briefing</td>\n      <td>prepare communication briefing</td>\n    </tr>\n    <tr>\n      <th>23</th>\n      <td>notify rejection</td>\n      <td>Tasks</td>\n      <td>PDI</td>\n      <td>Positive</td>\n      <td>1</td>\n      <td>notify rejection</td>\n      <td>notify rejection</td>\n      <td>notify rejection</td>\n    </tr>\n    <tr>\n      <th>35</th>\n      <td>approve purchase order change</td>\n      <td>Tasks</td>\n      <td>PDI</td>\n      <td>Positive</td>\n      <td>1</td>\n      <td>approve purchase order change</td>\n      <td>approve purchase order change</td>\n      <td>approve purchase order change</td>\n    </tr>\n    <tr>\n      <th>44</th>\n      <td>adjust document</td>\n      <td>Tasks</td>\n      <td>PDI</td>\n      <td>Positive</td>\n      <td>1</td>\n      <td>adjust document</td>\n      <td>adjust document</td>\n      <td>adjust document</td>\n    </tr>\n  </tbody>\n</table>\n</div>"
     },
     "execution_count": 38,
     "metadata": {},
     "output_type": "execute_result"
    }
   ],
   "source": [
    "totalWords=0\n",
    "noChangesCount=0\n",
    "totaltokens=0\n",
    "stopCount=0\n",
    "df_pdi = df[df['Category'].str.endswith('PDI')].copy()\n",
    "df_pdi['Names_clean_sl'] = df_pdi['Name'].apply(preprocess_stop_lemma)\n",
    "df_pdi['Names_clean_s'] = df_pdi['Name'].apply(preprocess_stop)\n",
    "print('stopCount =',stopCount,'total tokens = ',totaltokens)\n",
    "df_pdi['Names_clean_l'] = df_pdi['Name'].apply(preprocess_lemma)\n",
    "print('NoChange = ',noChangesCount,'total words =',totalWords)\n",
    "print(df_pdi['classificationLabel'].value_counts())\n",
    "df_pdi.head()"
   ],
   "metadata": {
    "collapsed": false,
    "pycharm": {
     "name": "#%%\n"
    }
   }
  },
  {
   "cell_type": "markdown",
   "source": [
    "# Balanceando os datasets"
   ],
   "metadata": {
    "collapsed": false,
    "pycharm": {
     "name": "#%% md\n"
    }
   }
  },
  {
   "cell_type": "markdown",
   "source": [
    "## Oversampling\n",
    "    para cada classe balanceamos os dados duplicando aleatoriamente elementos classificados na classe com menos elementos"
   ],
   "metadata": {
    "collapsed": false,
    "pycharm": {
     "name": "#%% md\n"
    }
   }
  },
  {
   "cell_type": "code",
   "execution_count": 39,
   "outputs": [],
   "source": [
    "def balance(auxdf,count,dominant):\n",
    "    df_overclass = auxdf[auxdf['classificationLabel']==dominant].sample(count, replace=True, random_state=2022)\n",
    "    df_False = auxdf[auxdf['classificationLabel']!=dominant]\n",
    "\n",
    "    df_balanced = pd.concat([df_overclass, df_False],axis=0)\n",
    "\n",
    "    return df_balanced.sample(frac=1, random_state=2022).reset_index(drop=True)\n",
    "    "
   ],
   "metadata": {
    "collapsed": false,
    "pycharm": {
     "name": "#%%\n"
    }
   }
  },
  {
   "cell_type": "markdown",
   "source": [
    "System, tools, and technologies (STT)"
   ],
   "metadata": {
    "collapsed": false,
    "pycharm": {
     "name": "#%% md\n"
    }
   }
  },
  {
   "cell_type": "code",
   "execution_count": 40,
   "outputs": [
    {
     "name": "stdout",
     "output_type": "stream",
     "text": [
      "Positive    398\n",
      "Negative    398\n",
      "Name: classificationLabel, dtype: int64\n"
     ]
    },
    {
     "data": {
      "text/plain": "                                        Name Element_supertype Category  \\\n0                  perform data verification             Tasks      STT   \n1                            receive payment             Tasks      STT   \n2                      close service request             Tasks      STT   \n3        project registered in the uf system             Tasks      STT   \n4  receive data request for cnpq scholarship             Tasks      STT   \n\n  classificationLabel  bclassification  \\\n0            Positive                1   \n1            Negative                0   \n2            Positive                1   \n3            Positive                1   \n4            Positive                1   \n\n                           Names_clean_sl  \\\n0              perform datum verification   \n1                         receive payment   \n2                   close service request   \n3              project register uf system   \n4  receive datum request cnpq scholarship   \n\n                           Names_clean_s  \\\n0              perform data verification   \n1                        receive payment   \n2                  close service request   \n3           project registered uf system   \n4  receive data request cnpq scholarship   \n\n                                Names_clean_l  \n0                  perform datum verification  \n1                             receive payment  \n2                       close service request  \n3           project register in the uf system  \n4  receive datum request for cnpq scholarship  ",
      "text/html": "<div>\n<style scoped>\n    .dataframe tbody tr th:only-of-type {\n        vertical-align: middle;\n    }\n\n    .dataframe tbody tr th {\n        vertical-align: top;\n    }\n\n    .dataframe thead th {\n        text-align: right;\n    }\n</style>\n<table border=\"1\" class=\"dataframe\">\n  <thead>\n    <tr style=\"text-align: right;\">\n      <th></th>\n      <th>Name</th>\n      <th>Element_supertype</th>\n      <th>Category</th>\n      <th>classificationLabel</th>\n      <th>bclassification</th>\n      <th>Names_clean_sl</th>\n      <th>Names_clean_s</th>\n      <th>Names_clean_l</th>\n    </tr>\n  </thead>\n  <tbody>\n    <tr>\n      <th>0</th>\n      <td>perform data verification</td>\n      <td>Tasks</td>\n      <td>STT</td>\n      <td>Positive</td>\n      <td>1</td>\n      <td>perform datum verification</td>\n      <td>perform data verification</td>\n      <td>perform datum verification</td>\n    </tr>\n    <tr>\n      <th>1</th>\n      <td>receive payment</td>\n      <td>Tasks</td>\n      <td>STT</td>\n      <td>Negative</td>\n      <td>0</td>\n      <td>receive payment</td>\n      <td>receive payment</td>\n      <td>receive payment</td>\n    </tr>\n    <tr>\n      <th>2</th>\n      <td>close service request</td>\n      <td>Tasks</td>\n      <td>STT</td>\n      <td>Positive</td>\n      <td>1</td>\n      <td>close service request</td>\n      <td>close service request</td>\n      <td>close service request</td>\n    </tr>\n    <tr>\n      <th>3</th>\n      <td>project registered in the uf system</td>\n      <td>Tasks</td>\n      <td>STT</td>\n      <td>Positive</td>\n      <td>1</td>\n      <td>project register uf system</td>\n      <td>project registered uf system</td>\n      <td>project register in the uf system</td>\n    </tr>\n    <tr>\n      <th>4</th>\n      <td>receive data request for cnpq scholarship</td>\n      <td>Tasks</td>\n      <td>STT</td>\n      <td>Positive</td>\n      <td>1</td>\n      <td>receive datum request cnpq scholarship</td>\n      <td>receive data request cnpq scholarship</td>\n      <td>receive datum request for cnpq scholarship</td>\n    </tr>\n  </tbody>\n</table>\n</div>"
     },
     "execution_count": 40,
     "metadata": {},
     "output_type": "execute_result"
    }
   ],
   "source": [
    "x = df_stt['classificationLabel'].value_counts()\n",
    "y = x.index\n",
    "if x[0]!=x[1]:\n",
    "    df_stt = balance(df_stt,max(x),y[1])\n",
    "print(df_stt['classificationLabel'].value_counts())\n",
    "df_stt.head()"
   ],
   "metadata": {
    "collapsed": false,
    "pycharm": {
     "name": "#%%\n"
    }
   }
  },
  {
   "cell_type": "markdown",
   "source": [
    "PDI"
   ],
   "metadata": {
    "collapsed": false,
    "pycharm": {
     "name": "#%% md\n"
    }
   }
  },
  {
   "cell_type": "code",
   "execution_count": 42,
   "outputs": [
    {
     "name": "stdout",
     "output_type": "stream",
     "text": [
      "Negative    408\n",
      "Positive    408\n",
      "Name: classificationLabel, dtype: int64\n"
     ]
    },
    {
     "data": {
      "text/plain": "                            Name Element_supertype Category  \\\n0                          login             Tasks      PDI   \n1               prepare material             Tasks      PDI   \n2           designate specialist             Tasks      PDI   \n3                 issue contract             Tasks      PDI   \n4  receive invoice from supplier             Tasks      PDI   \n\n  classificationLabel  bclassification            Names_clean_sl  \\\n0            Negative                0                     login   \n1            Negative                0          prepare material   \n2            Negative                0      designate specialist   \n3            Positive                1            issue contract   \n4            Positive                1  receive invoice supplier   \n\n              Names_clean_s                  Names_clean_l  \n0                     login                          login  \n1          prepare material               prepare material  \n2      designate specialist           designate specialist  \n3            issue contract                 issue contract  \n4  receive invoice supplier  receive invoice from supplier  ",
      "text/html": "<div>\n<style scoped>\n    .dataframe tbody tr th:only-of-type {\n        vertical-align: middle;\n    }\n\n    .dataframe tbody tr th {\n        vertical-align: top;\n    }\n\n    .dataframe thead th {\n        text-align: right;\n    }\n</style>\n<table border=\"1\" class=\"dataframe\">\n  <thead>\n    <tr style=\"text-align: right;\">\n      <th></th>\n      <th>Name</th>\n      <th>Element_supertype</th>\n      <th>Category</th>\n      <th>classificationLabel</th>\n      <th>bclassification</th>\n      <th>Names_clean_sl</th>\n      <th>Names_clean_s</th>\n      <th>Names_clean_l</th>\n    </tr>\n  </thead>\n  <tbody>\n    <tr>\n      <th>0</th>\n      <td>login</td>\n      <td>Tasks</td>\n      <td>PDI</td>\n      <td>Negative</td>\n      <td>0</td>\n      <td>login</td>\n      <td>login</td>\n      <td>login</td>\n    </tr>\n    <tr>\n      <th>1</th>\n      <td>prepare material</td>\n      <td>Tasks</td>\n      <td>PDI</td>\n      <td>Negative</td>\n      <td>0</td>\n      <td>prepare material</td>\n      <td>prepare material</td>\n      <td>prepare material</td>\n    </tr>\n    <tr>\n      <th>2</th>\n      <td>designate specialist</td>\n      <td>Tasks</td>\n      <td>PDI</td>\n      <td>Negative</td>\n      <td>0</td>\n      <td>designate specialist</td>\n      <td>designate specialist</td>\n      <td>designate specialist</td>\n    </tr>\n    <tr>\n      <th>3</th>\n      <td>issue contract</td>\n      <td>Tasks</td>\n      <td>PDI</td>\n      <td>Positive</td>\n      <td>1</td>\n      <td>issue contract</td>\n      <td>issue contract</td>\n      <td>issue contract</td>\n    </tr>\n    <tr>\n      <th>4</th>\n      <td>receive invoice from supplier</td>\n      <td>Tasks</td>\n      <td>PDI</td>\n      <td>Positive</td>\n      <td>1</td>\n      <td>receive invoice supplier</td>\n      <td>receive invoice supplier</td>\n      <td>receive invoice from supplier</td>\n    </tr>\n  </tbody>\n</table>\n</div>"
     },
     "execution_count": 42,
     "metadata": {},
     "output_type": "execute_result"
    }
   ],
   "source": [
    "x = df_pdi['classificationLabel'].value_counts()\n",
    "y = x.index\n",
    "\n",
    "if x[0]!=x[1]:\n",
    "    df_pdi = balance(df_pdi,max(x),y[1])\n",
    "print(df_pdi['classificationLabel'].value_counts())\n",
    "df_pdi.head()"
   ],
   "metadata": {
    "collapsed": false,
    "pycharm": {
     "name": "#%%\n"
    }
   }
  },
  {
   "cell_type": "markdown",
   "source": [
    "PP"
   ],
   "metadata": {
    "collapsed": false,
    "pycharm": {
     "name": "#%% md\n"
    }
   }
  },
  {
   "cell_type": "code",
   "execution_count": 43,
   "outputs": [
    {
     "name": "stdout",
     "output_type": "stream",
     "text": [
      "Positive    196\n",
      "Negative    196\n",
      "Name: classificationLabel, dtype: int64\n"
     ]
    },
    {
     "data": {
      "text/plain": "                                 Name Element_supertype Category  \\\n0                    receive material             Tasks       PP   \n1  request medical coats for students             Tasks       PP   \n2         forward danfe to dispatcher             Tasks       PP   \n3    get client password confirmation             Tasks       PP   \n4           change invoice to receive             Tasks       PP   \n\n  classificationLabel  bclassification                Names_clean_sl  \\\n0            Positive                1              receive material   \n1            Positive                1  request medical coat student   \n2            Positive                1      forward danfe dispatcher   \n3            Positive                1  client password confirmation   \n4            Negative                0        change invoice receive   \n\n                    Names_clean_s                     Names_clean_l  \n0                receive material                  receive material  \n1  request medical coats students  request medical coat for student  \n2        forward danfe dispatcher       forward danfe to dispatcher  \n3    client password confirmation  get client password confirmation  \n4          change invoice receive         change invoice to receive  ",
      "text/html": "<div>\n<style scoped>\n    .dataframe tbody tr th:only-of-type {\n        vertical-align: middle;\n    }\n\n    .dataframe tbody tr th {\n        vertical-align: top;\n    }\n\n    .dataframe thead th {\n        text-align: right;\n    }\n</style>\n<table border=\"1\" class=\"dataframe\">\n  <thead>\n    <tr style=\"text-align: right;\">\n      <th></th>\n      <th>Name</th>\n      <th>Element_supertype</th>\n      <th>Category</th>\n      <th>classificationLabel</th>\n      <th>bclassification</th>\n      <th>Names_clean_sl</th>\n      <th>Names_clean_s</th>\n      <th>Names_clean_l</th>\n    </tr>\n  </thead>\n  <tbody>\n    <tr>\n      <th>0</th>\n      <td>receive material</td>\n      <td>Tasks</td>\n      <td>PP</td>\n      <td>Positive</td>\n      <td>1</td>\n      <td>receive material</td>\n      <td>receive material</td>\n      <td>receive material</td>\n    </tr>\n    <tr>\n      <th>1</th>\n      <td>request medical coats for students</td>\n      <td>Tasks</td>\n      <td>PP</td>\n      <td>Positive</td>\n      <td>1</td>\n      <td>request medical coat student</td>\n      <td>request medical coats students</td>\n      <td>request medical coat for student</td>\n    </tr>\n    <tr>\n      <th>2</th>\n      <td>forward danfe to dispatcher</td>\n      <td>Tasks</td>\n      <td>PP</td>\n      <td>Positive</td>\n      <td>1</td>\n      <td>forward danfe dispatcher</td>\n      <td>forward danfe dispatcher</td>\n      <td>forward danfe to dispatcher</td>\n    </tr>\n    <tr>\n      <th>3</th>\n      <td>get client password confirmation</td>\n      <td>Tasks</td>\n      <td>PP</td>\n      <td>Positive</td>\n      <td>1</td>\n      <td>client password confirmation</td>\n      <td>client password confirmation</td>\n      <td>get client password confirmation</td>\n    </tr>\n    <tr>\n      <th>4</th>\n      <td>change invoice to receive</td>\n      <td>Tasks</td>\n      <td>PP</td>\n      <td>Negative</td>\n      <td>0</td>\n      <td>change invoice receive</td>\n      <td>change invoice receive</td>\n      <td>change invoice to receive</td>\n    </tr>\n  </tbody>\n</table>\n</div>"
     },
     "execution_count": 43,
     "metadata": {},
     "output_type": "execute_result"
    }
   ],
   "source": [
    "x = df_pp['classificationLabel'].value_counts()\n",
    "y = x.index\n",
    "\n",
    "if x[0]!=x[1]:\n",
    "    df_pp = balance(df_pp,max(x),y[1])\n",
    "print(df_pp['classificationLabel'].value_counts())\n",
    "\n",
    "df_pp.head()"
   ],
   "metadata": {
    "collapsed": false,
    "pycharm": {
     "name": "#%%\n"
    }
   }
  },
  {
   "cell_type": "markdown",
   "source": [
    "# Building the Model\n"
   ],
   "metadata": {
    "collapsed": false,
    "pycharm": {
     "name": "#%% md\n"
    }
   }
  },
  {
   "cell_type": "code",
   "execution_count": 44,
   "outputs": [],
   "source": [
    "from sklearn.naive_bayes import MultinomialNB\n",
    "from sklearn.naive_bayes import ComplementNB\n",
    "from sklearn.svm import SVC\n",
    "from sklearn.pipeline import Pipeline\n",
    "\n",
    "from sklearn.model_selection import GridSearchCV\n",
    "from sklearn.model_selection import train_test_split\n",
    "from sklearn.feature_extraction.text import CountVectorizer\n",
    "from sklearn.feature_extraction.text import TfidfVectorizer\n",
    "from sklearn.ensemble import RandomForestClassifier\n",
    "from sklearn.metrics import RocCurveDisplay\n",
    "import matplotlib.pyplot as plt\n"
   ],
   "metadata": {
    "collapsed": false,
    "pycharm": {
     "name": "#%%\n"
    }
   }
  },
  {
   "cell_type": "code",
   "execution_count": 45,
   "outputs": [],
   "source": [
    "## ecolher entre 'roc_auc' e 'accuracy'\n",
    "scoretipe = 'accuracy'"
   ],
   "metadata": {
    "collapsed": false,
    "pycharm": {
     "name": "#%%\n"
    }
   }
  },
  {
   "cell_type": "markdown",
   "source": [
    "Bag of words"
   ],
   "metadata": {
    "collapsed": false,
    "pycharm": {
     "name": "#%% md\n"
    }
   }
  },
  {
   "cell_type": "code",
   "execution_count": 46,
   "outputs": [],
   "source": [
    "def bow(dfaux,colname):\n",
    "    cl1 = SVC()\n",
    "    cl2 = MultinomialNB()\n",
    "    cl3 = ComplementNB()\n",
    "    cl4 = RandomForestClassifier(random_state=2022)\n",
    "    \n",
    "    \n",
    "    clf = Pipeline([('preprocessor',CountVectorizer()),('classifier',cl1)])\n",
    "\n",
    "    params1 = {'preprocessor__ngram_range': [(1, 1), (1, 2), (2, 2), (1, 3), (2, 3), (3, 3)], 'classifier': [cl1]}\n",
    "\n",
    "    params2 = {'preprocessor__ngram_range': [(1, 1), (1, 2), (2, 2), (1, 3), (2, 3), (3, 3)], 'classifier': [cl2]}\n",
    "\n",
    "    params3 = {'preprocessor__ngram_range': [(1, 1), (1, 2), (2, 2), (1, 3), (2, 3), (3, 3)], 'classifier': [cl3]}\n",
    "\n",
    "    params4 = {'preprocessor__ngram_range': [(1, 1), (1, 2), (2, 2), (1, 3), (2, 3), (3, 3)], 'classifier': [cl4]}\n",
    "\n",
    "    params = [params1,params2,params3,params4]\n",
    "    # n_jobs = Number of jobs to run in parallel -1 means using all processors. Can be changed to the desired number of processors\n",
    "    grid = GridSearchCV(clf, params, n_jobs=-1, cv=5,scoring=scoretipe)\n",
    "    grid.fit(dfaux[colname],dfaux['bclassification'])\n",
    "\n",
    "\n",
    "    return pd.DataFrame(grid.cv_results_)[['param_classifier','param_preprocessor__ngram_range','mean_test_score']]\n",
    "\n"
   ],
   "metadata": {
    "collapsed": false,
    "pycharm": {
     "name": "#%%\n"
    }
   }
  },
  {
   "cell_type": "markdown",
   "source": [
    "TFID"
   ],
   "metadata": {
    "collapsed": false,
    "pycharm": {
     "name": "#%% md\n"
    }
   }
  },
  {
   "cell_type": "code",
   "execution_count": 47,
   "outputs": [],
   "source": [
    "def tfidf(dfaux,colname):\n",
    "    cl1 = SVC()\n",
    "    cl2 = MultinomialNB()\n",
    "    cl3 = ComplementNB()\n",
    "    cl4 = RandomForestClassifier(random_state=2022)\n",
    "    \n",
    "    \n",
    "    clf = Pipeline([('preprocessor',TfidfVectorizer()),('classifier',cl1)])\n",
    "\n",
    "    params1 = {'preprocessor__ngram_range': [(1, 1), (1, 2), (2, 2), (1, 3), (2, 3), (3, 3)], 'classifier': [cl1]}\n",
    "\n",
    "    params2 = {'preprocessor__ngram_range': [(1, 1), (1, 2), (2, 2), (1, 3), (2, 3), (3, 3)], 'classifier': [cl2]}\n",
    "\n",
    "    params3 = {'preprocessor__ngram_range': [(1, 1), (1, 2), (2, 2), (1, 3), (2, 3), (3, 3)], 'classifier': [cl3]}\n",
    "\n",
    "    params4 = {'preprocessor__ngram_range': [(1, 1), (1, 2), (2, 2), (1, 3), (2, 3), (3, 3)], 'classifier': [cl4]}\n",
    "\n",
    "    params = [params1,params2,params3,params4]\n",
    "    \n",
    "    # n_jobs = Number of jobs to run in parallel -1 means using all processors. Can be changed to the desired number of processors\n",
    "    grid = GridSearchCV(clf, params, n_jobs=-1, cv=5, scoring=scoretipe)\n",
    "    grid.fit(dfaux[colname],dfaux['bclassification'])\n",
    "    \n",
    "    return  pd.DataFrame(grid.cv_results_)[['param_classifier','param_preprocessor__ngram_range','mean_test_score']]\n"
   ],
   "metadata": {
    "collapsed": false,
    "pycharm": {
     "name": "#%%\n"
    }
   }
  },
  {
   "cell_type": "markdown",
   "source": [
    "## Executa os testes (avaliando conforme escolhido) para todas as combinacoes de tecnicas e registra em arquivos separados"
   ],
   "metadata": {
    "collapsed": false,
    "pycharm": {
     "name": "#%% md\n"
    }
   }
  },
  {
   "cell_type": "code",
   "execution_count": 48,
   "outputs": [
    {
     "name": "stdout",
     "output_type": "stream",
     "text": [
      "PDI Name completo\n",
      "PP Name completo\n",
      "STT Name completo\n",
      "PDI Names_clean_sl completo\n",
      "PP Names_clean_sl completo\n",
      "STT Names_clean_sl completo\n",
      "PDI Names_clean_s completo\n",
      "PP Names_clean_s completo\n",
      "STT Names_clean_s completo\n",
      "PDI Names_clean_l completo\n",
      "PP Names_clean_l completo\n",
      "STT Names_clean_l completo\n"
     ]
    }
   ],
   "source": [
    "df_completo = pd.DataFrame()\n",
    "classe = {'PDI':df_pdi, 'PP':df_pp, 'STT':df_stt}\n",
    "for x in ['Name', 'Names_clean_sl', 'Names_clean_s', 'Names_clean_l']:\n",
    "    for y in classe:\n",
    "        df_aux = bow(classe[y],x)\n",
    "        df_aux['class']= y\n",
    "        df_aux['algorithm']= 'BOW'\n",
    "        df_aux['textPreprocess']= x\n",
    "\n",
    "        df_completo = pd.concat([df_completo,df_aux],axis=0)\n",
    "\n",
    "        df_aux = tfidf(classe[y],x)\n",
    "        df_aux['class']= y\n",
    "        df_aux['algorithm']= 'TF-IDF'\n",
    "        df_aux['textPreprocess']= x\n",
    "\n",
    "        df_completo = pd.concat([df_completo,df_aux],axis=0)\n",
    "        print(y,x,'completo')\n",
    "\n",
    "df_completo.to_csv('completo.csv',index=False)\n"
   ],
   "metadata": {
    "collapsed": false,
    "pycharm": {
     "name": "#%%\n"
    }
   }
  },
  {
   "cell_type": "code",
   "execution_count": 49,
   "outputs": [
    {
     "data": {
      "text/plain": "                             param_classifier param_preprocessor__ngram_range  \\\n0                                       SVC()                          (1, 1)   \n1                                       SVC()                          (1, 2)   \n2                                       SVC()                          (2, 2)   \n3                                       SVC()                          (1, 3)   \n4                                       SVC()                          (2, 3)   \n..                                        ...                             ...   \n19  RandomForestClassifier(random_state=2022)                          (1, 2)   \n20  RandomForestClassifier(random_state=2022)                          (2, 2)   \n21  RandomForestClassifier(random_state=2022)                          (1, 3)   \n22  RandomForestClassifier(random_state=2022)                          (2, 3)   \n23  RandomForestClassifier(random_state=2022)                          (3, 3)   \n\n    mean_test_score class algorithm textPreprocess  \n0          0.899461   PDI       BOW           Name  \n1          0.852895   PDI       BOW           Name  \n2          0.696065   PDI       BOW           Name  \n3          0.839421   PDI       BOW           Name  \n4          0.618869   PDI       BOW           Name  \n..              ...   ...       ...            ...  \n19         0.934662   STT    TF-IDF  Names_clean_l  \n20         0.885605   STT    TF-IDF  Names_clean_l  \n21         0.939686   STT    TF-IDF  Names_clean_l  \n22         0.886863   STT    TF-IDF  Names_clean_l  \n23         0.863042   STT    TF-IDF  Names_clean_l  \n\n[576 rows x 6 columns]",
      "text/html": "<div>\n<style scoped>\n    .dataframe tbody tr th:only-of-type {\n        vertical-align: middle;\n    }\n\n    .dataframe tbody tr th {\n        vertical-align: top;\n    }\n\n    .dataframe thead th {\n        text-align: right;\n    }\n</style>\n<table border=\"1\" class=\"dataframe\">\n  <thead>\n    <tr style=\"text-align: right;\">\n      <th></th>\n      <th>param_classifier</th>\n      <th>param_preprocessor__ngram_range</th>\n      <th>mean_test_score</th>\n      <th>class</th>\n      <th>algorithm</th>\n      <th>textPreprocess</th>\n    </tr>\n  </thead>\n  <tbody>\n    <tr>\n      <th>0</th>\n      <td>SVC()</td>\n      <td>(1, 1)</td>\n      <td>0.899461</td>\n      <td>PDI</td>\n      <td>BOW</td>\n      <td>Name</td>\n    </tr>\n    <tr>\n      <th>1</th>\n      <td>SVC()</td>\n      <td>(1, 2)</td>\n      <td>0.852895</td>\n      <td>PDI</td>\n      <td>BOW</td>\n      <td>Name</td>\n    </tr>\n    <tr>\n      <th>2</th>\n      <td>SVC()</td>\n      <td>(2, 2)</td>\n      <td>0.696065</td>\n      <td>PDI</td>\n      <td>BOW</td>\n      <td>Name</td>\n    </tr>\n    <tr>\n      <th>3</th>\n      <td>SVC()</td>\n      <td>(1, 3)</td>\n      <td>0.839421</td>\n      <td>PDI</td>\n      <td>BOW</td>\n      <td>Name</td>\n    </tr>\n    <tr>\n      <th>4</th>\n      <td>SVC()</td>\n      <td>(2, 3)</td>\n      <td>0.618869</td>\n      <td>PDI</td>\n      <td>BOW</td>\n      <td>Name</td>\n    </tr>\n    <tr>\n      <th>...</th>\n      <td>...</td>\n      <td>...</td>\n      <td>...</td>\n      <td>...</td>\n      <td>...</td>\n      <td>...</td>\n    </tr>\n    <tr>\n      <th>19</th>\n      <td>RandomForestClassifier(random_state=2022)</td>\n      <td>(1, 2)</td>\n      <td>0.934662</td>\n      <td>STT</td>\n      <td>TF-IDF</td>\n      <td>Names_clean_l</td>\n    </tr>\n    <tr>\n      <th>20</th>\n      <td>RandomForestClassifier(random_state=2022)</td>\n      <td>(2, 2)</td>\n      <td>0.885605</td>\n      <td>STT</td>\n      <td>TF-IDF</td>\n      <td>Names_clean_l</td>\n    </tr>\n    <tr>\n      <th>21</th>\n      <td>RandomForestClassifier(random_state=2022)</td>\n      <td>(1, 3)</td>\n      <td>0.939686</td>\n      <td>STT</td>\n      <td>TF-IDF</td>\n      <td>Names_clean_l</td>\n    </tr>\n    <tr>\n      <th>22</th>\n      <td>RandomForestClassifier(random_state=2022)</td>\n      <td>(2, 3)</td>\n      <td>0.886863</td>\n      <td>STT</td>\n      <td>TF-IDF</td>\n      <td>Names_clean_l</td>\n    </tr>\n    <tr>\n      <th>23</th>\n      <td>RandomForestClassifier(random_state=2022)</td>\n      <td>(3, 3)</td>\n      <td>0.863042</td>\n      <td>STT</td>\n      <td>TF-IDF</td>\n      <td>Names_clean_l</td>\n    </tr>\n  </tbody>\n</table>\n<p>576 rows × 6 columns</p>\n</div>"
     },
     "execution_count": 49,
     "metadata": {},
     "output_type": "execute_result"
    }
   ],
   "source": [
    "df_completo"
   ],
   "metadata": {
    "collapsed": false,
    "pycharm": {
     "name": "#%%\n"
    }
   }
  },
  {
   "cell_type": "markdown",
   "source": [
    "## Executa novo treino com os melhores casos de n-gramas em cada combinaçao classe - algoritimo para gerar grafico"
   ],
   "metadata": {
    "collapsed": false,
    "pycharm": {
     "name": "#%% md\n"
    }
   }
  },
  {
   "cell_type": "code",
   "execution_count": 50,
   "outputs": [],
   "source": [
    "def split(names_column,df_class):\n",
    "    X_train, X_test, y_train, y_test = train_test_split(\n",
    "        df_class[names_column],\n",
    "        df_class['bclassification'],\n",
    "        test_size=0.2, # 20% samples will go to test dataset\n",
    "        stratify=df_class['bclassification'],\n",
    "        random_state=1873211\n",
    "        )\n",
    "    return X_train, X_test, y_train, y_test"
   ],
   "metadata": {
    "collapsed": false,
    "pycharm": {
     "name": "#%%\n"
    }
   }
  },
  {
   "cell_type": "code",
   "execution_count": 51,
   "outputs": [],
   "source": [
    "def tfidf2(X_train, X_test, y_train, y_test,classe,best):\n",
    "\n",
    "    models = [MultinomialNB(),ComplementNB(),RandomForestClassifier(),SVC()]\n",
    "    names = ['MultinomialNB','ComplementNB','RFC','SVC']\n",
    "    for name,mod in enumerate(models):\n",
    "        v = TfidfVectorizer(ngram_range=best[str(mod)])\n",
    "        X_train_count = v.fit_transform(X_train.values)\n",
    "        model = mod\n",
    "        model.fit(X_train_count,y_train)\n",
    "\n",
    "\n",
    "        X_test_count = v.transform( X_test)\n",
    "        svc_disp = RocCurveDisplay.from_estimator(model, X_test_count, y_test, ax=ax,name=classe + names[name] +str(best[str(mod)]))\n"
   ],
   "metadata": {
    "collapsed": false,
    "pycharm": {
     "name": "#%%\n"
    }
   }
  },
  {
   "cell_type": "code",
   "execution_count": 52,
   "outputs": [
    {
     "data": {
      "text/plain": "<Figure size 550x400 with 1 Axes>",
      "image/png": "[encoded data removed]"
     },
     "metadata": {},
     "output_type": "display_data"
    }
   ],
   "source": [
    "df_stt.name='STT '\n",
    "df_pp.name='PP '\n",
    "df_pdi.name='PDI '\n",
    "dfs = [df_stt,df_pp,df_pdi]\n",
    "\n",
    "#selecionar o numero de ngramas que apresentaram melhor desempenho para cada algoritimo em cada classe\n",
    "bestpdi= {'MultinomialNB()':(1,2),'ComplementNB()':(1,2),'RandomForestClassifier()':(1,1),'SVC()':(1,3)}\n",
    "bestpp = {'MultinomialNB()':(1,3),'ComplementNB()':(1,3),'RandomForestClassifier()':(1,1),'SVC()':(1,3)}\n",
    "beststt = {'MultinomialNB()':(1,3),'ComplementNB()':(2,3),'RandomForestClassifier()':(2,2),'SVC()':(2,3)}\n",
    "bests = [beststt,bestpp,bestpdi]\n",
    "plt.figure(figsize=[5.5,4],frameon=False)\n",
    "\n",
    "ax = plt.gca()\n",
    "ax.set_facecolor(\"white\")\n",
    "\n",
    "\n",
    "\n",
    "for x,df_ in enumerate(dfs):\n",
    "    X_train, X_test, y_train, y_test = split('Names_clean_sl',df_)\n",
    "    tfidf2(X_train, X_test, y_train, y_test,df_.name,bests[x])\n",
    "plt.grid(color='#ececec')\n",
    "plt.ylabel('True Positive Rate')\n",
    "plt.xlabel('False Positive Rate')\n",
    "plt.legend(facecolor=\"white\")\n",
    "ax.spines['bottom'].set_color('#4d4d4d')\n",
    "ax.spines['top'].set_color('#4d4d4d')\n",
    "ax.xaxis.label.set_color('#4d4d4d')\n",
    "ax.tick_params(axis='x', colors='#4d4d4d')\n",
    "\n",
    "ax.spines['left'].set_color('#4d4d4d')\n",
    "ax.spines['right'].set_color('#4d4d4d')\n",
    "ax.xaxis.label.set_color('#4d4d4d')\n",
    "ax.tick_params(axis='y', colors='#4d4d4d')\n",
    "\n",
    "plt.savefig('line_plot.pdf')"
   ],
   "metadata": {
    "collapsed": false,
    "pycharm": {
     "name": "#%%\n"
    }
   }
  },
  {
   "cell_type": "code",
   "execution_count": null,
   "outputs": [],
   "source": [],
   "metadata": {
    "collapsed": false,
    "pycharm": {
     "name": "#%%\n"
    }
   }
  }
 ],
 "metadata": {
  "kernelspec": {
   "display_name": "Python 3.8.10 64-bit",
   "language": "python",
   "name": "python3"
  },
  "language_info": {
   "codemirror_mode": {
    "name": "ipython",
    "version": 3
   },
   "file_extension": ".py",
   "mimetype": "text/x-python",
   "name": "python",
   "nbconvert_exporter": "python",
   "pygments_lexer": "ipython3",
   "version": "3.8.10"
  },
  "vscode": {
   "interpreter": {
    "hash": "916dbcbb3f70747c44a77c7bcd40155683ae19c65e1c03b4aa3499c5328201f1"
   }
  }
 },
 "nbformat": 4,
 "nbformat_minor": 5
}